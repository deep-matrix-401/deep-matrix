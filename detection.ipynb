{
 "cells": [
  {
   "cell_type": "code",
   "execution_count": null,
   "id": "967e06fb",
   "metadata": {},
   "outputs": [],
   "source": [
    "import os\n",
    "# import wget\n",
    "import object_detection\n",
    "import tensorflow as tf\n",
    "from object_detection.utils import config_util\n",
    "from object_detection.protos import pipeline_pb2\n",
    "from google.protobuf import text_format\n",
    "from object_detection.utils import label_map_util\n",
    "from object_detection.utils import visualization_utils as viz_utils\n",
    "from object_detection.builders import model_builder\n",
    "import cv2 \n",
    "import numpy as np\n",
    "from matplotlib import pyplot as plt\n",
    "%matplotlib inline"
   ]
  },
  {
   "cell_type": "code",
   "execution_count": null,
   "id": "e498c7d8",
   "metadata": {},
   "outputs": [],
   "source": [
    "CUSTOM_MODEL_NAME = 'my_ssd_mobnet' \n",
    "PRETRAINED_MODEL_NAME = 'ssd_mobilenet_v2_fpnlite_320x320_coco17_tpu-8'\n",
    "PRETRAINED_MODEL_URL = 'http://download.tensorflow.org/models/object_detection/tf2/20200711/ssd_mobilenet_v2_fpnlite_320x320_coco17_tpu-8.tar.gz'\n",
    "TF_RECORD_SCRIPT_NAME = 'generate_tfrecord.py'\n",
    "LABEL_MAP_NAME = 'label_map.pbtxt'"
   ]
  },
  {
   "cell_type": "code",
   "execution_count": null,
   "id": "d65faeaf",
   "metadata": {},
   "outputs": [],
   "source": [
    "\n",
    "paths = {\n",
    "    'WORKSPACE_PATH': os.path.join('Tensorflow', 'workspace'),\n",
    "    'SCRIPTS_PATH': os.path.join('Tensorflow','scripts'),\n",
    "    'APIMODEL_PATH': os.path.join('Tensorflow','models'),\n",
    "    'ANNOTATION_PATH': os.path.join('Tensorflow', 'workspace','annotations'),\n",
    "    'IMAGE_PATH': os.path.join('Tensorflow', 'workspace','images'),\n",
    "    'MODEL_PATH': os.path.join('Tensorflow', 'workspace','models'),\n",
    "    'PRETRAINED_MODEL_PATH': os.path.join('Tensorflow', 'workspace','pre-trained-models'),\n",
    "    'CHECKPOINT_PATH': os.path.join('Tensorflow', 'workspace','models',CUSTOM_MODEL_NAME), \n",
    "    'OUTPUT_PATH': os.path.join('Tensorflow', 'workspace','models',CUSTOM_MODEL_NAME, 'export'), \n",
    "    'TFJS_PATH':os.path.join('Tensorflow', 'workspace','models',CUSTOM_MODEL_NAME, 'tfjsexport'), \n",
    "    'TFLITE_PATH':os.path.join('Tensorflow', 'workspace','models',CUSTOM_MODEL_NAME, 'tfliteexport'), \n",
    "    'PROTOC_PATH':os.path.join('Tensorflow','protoc')\n",
    " }"
   ]
  },
  {
   "cell_type": "code",
   "execution_count": null,
   "id": "a2b03289",
   "metadata": {},
   "outputs": [],
   "source": [
    "files = {\n",
    "    'PIPELINE_CONFIG':os.path.join('Tensorflow', 'workspace','models', CUSTOM_MODEL_NAME, 'pipeline.config'),\n",
    "    'TF_RECORD_SCRIPT': os.path.join(paths['SCRIPTS_PATH'], TF_RECORD_SCRIPT_NAME), \n",
    "    'LABELMAP': os.path.join(paths['ANNOTATION_PATH'], LABEL_MAP_NAME)\n",
    "}\n",
    "TRAINING_SCRIPT = os.path.join(paths['APIMODEL_PATH'], 'research', 'object_detection', 'model_main_tf2.py')"
   ]
  },
  {
   "cell_type": "code",
   "execution_count": null,
   "id": "51ccd527",
   "metadata": {},
   "outputs": [],
   "source": [
    "# Load pipeline config and build a detection model\n",
    "configs = config_util.get_configs_from_pipeline_file(files['PIPELINE_CONFIG'])\n",
    "detection_model = model_builder.build(model_config=configs['model'], is_training=False)\n",
    "\n",
    "# Restore checkpoint\n",
    "ckpt = tf.compat.v2.train.Checkpoint(model=detection_model)\n",
    "ckpt.restore(os.path.join(paths['CHECKPOINT_PATH'], 'ckpt-4')).expect_partial()\n",
    "\n",
    "@tf.function\n",
    "def detect_fn(image):\n",
    "    image, shapes = detection_model.preprocess(image)\n",
    "    prediction_dict = detection_model.predict(image, shapes)\n",
    "    detections = detection_model.postprocess(prediction_dict, shapes)\n",
    "    \n",
    "    return detections"
   ]
  },
  {
   "cell_type": "code",
   "execution_count": null,
   "id": "e4ebc82a",
   "metadata": {},
   "outputs": [],
   "source": [
    "category_index = label_map_util.create_category_index_from_labelmap(files['LABELMAP'])"
   ]
  },
  {
   "cell_type": "code",
   "execution_count": null,
   "id": "1b49ac06",
   "metadata": {},
   "outputs": [],
   "source": [
    "# # ### Only one Image\n",
    "# IMAGE_PATH = os.path.join(paths['IMAGE_PATH'], 'testing', 'download.jpg')\n",
    "# img = cv2.imread(IMAGE_PATH)\n",
    "# image_np = np.array(img)\n",
    "\n",
    "# input_tensor = tf.convert_to_tensor(np.expand_dims(image_np, 0), dtype=tf.float32)\n",
    "# detections = detect_fn(input_tensor)\n",
    "\n",
    "\n",
    "# num_detections = int(detections.pop('num_detections'))\n",
    "# detections = {key: value[0, :num_detections].numpy()\n",
    "#               for key, value in detections.items()}\n",
    "# detections['num_detections'] = num_detections\n",
    "\n",
    "# # detection_classes should be ints.\n",
    "# detections['detection_classes'] = detections['detection_classes'].astype(np.int64)\n",
    "\n",
    "# label_id_offset = 1\n",
    "# image_np_with_detections = image_np.copy()\n",
    "\n",
    "# viz_utils.visualize_boxes_and_labels_on_image_array(\n",
    "#             image_np_with_detections,\n",
    "#             detections['detection_boxes'],\n",
    "#             detections['detection_classes']+label_id_offset,\n",
    "#             detections['detection_scores'],\n",
    "#             category_index,\n",
    "#             use_normalized_coordinates=True,\n",
    "#             max_boxes_to_draw=5,\n",
    "#             min_score_thresh=.8,\n",
    "#             agnostic_mode=False)\n",
    "\n",
    "# plt.imshow(cv2.cvtColor(image_np_with_detections, cv2.COLOR_BGR2RGB))\n",
    "# plt.show()"
   ]
  },
  {
   "cell_type": "code",
   "execution_count": null,
   "id": "f53f0d2c",
   "metadata": {},
   "outputs": [],
   "source": [
    "def functionBtnDetection(): \n",
    "        aWindow.withdraw()\n",
    "        ### Detection\n",
    "        cap = cv2.VideoCapture(0)\n",
    "        width = int(cap.get(cv2.CAP_PROP_FRAME_WIDTH))\n",
    "        height = int(cap.get(cv2.CAP_PROP_FRAME_HEIGHT))\n",
    "        temp=''\n",
    "\n",
    "        while cap.isOpened(): \n",
    "            ret, frame = cap.read()\n",
    "            image_np = np.array(frame)\n",
    "\n",
    "            input_tensor = tf.convert_to_tensor(np.expand_dims(image_np, 0), dtype=tf.float32)\n",
    "            detections = detect_fn(input_tensor)\n",
    "\n",
    "            num_detections = int(detections.pop('num_detections'))\n",
    "            detections = {key: value[0, :num_detections].numpy()\n",
    "                          for key, value in detections.items()}\n",
    "            detections['num_detections'] = num_detections\n",
    "\n",
    "            # detection_classes should be ints.\n",
    "            detections['detection_classes'] = detections['detection_classes'].astype(np.int64)\n",
    "\n",
    "            label_id_offset = 1\n",
    "            image_np_with_detections = image_np.copy()\n",
    "\n",
    "            viz_utils.visualize_boxes_and_labels_on_image_array(\n",
    "                        image_np_with_detections,\n",
    "                        detections['detection_boxes'],\n",
    "                        detections['detection_classes']+label_id_offset,\n",
    "                        detections['detection_scores'],\n",
    "                        category_index,\n",
    "                        use_normalized_coordinates=True,\n",
    "                        max_boxes_to_draw=1,\n",
    "                        min_score_thresh=.6,\n",
    "                        agnostic_mode=False)\n",
    "            \n",
    "            cv2.imshow('object detection',  cv2.resize(image_np_with_detections, (800, 600)))\n",
    "            \n",
    "            if detections['detection_scores'][0] >= 0.90 :\n",
    "                x = category_index[detections['detection_classes'][0]+1]['name']\n",
    "                if x != temp :\n",
    "                    pyttsx3.speak(x)\n",
    "                    temp = x\n",
    "                \n",
    "            if cv2.waitKey(10) & 0xFF == ord('q') :\n",
    "                aWindow.deiconify()\n",
    "                cap.release()\n",
    "                cv2.destroyAllWindows()\n",
    "                break"
   ]
  },
  {
   "cell_type": "code",
   "execution_count": null,
   "id": "8db9e4d6",
   "metadata": {},
   "outputs": [],
   "source": [
    "def speak():\n",
    "    aWindow.withdraw()\n",
    "   \n",
    "    aWindow2 = Toplevel(root)\n",
    "    aWindow2.title(\"Deep Matrix\")\n",
    "    # aWindow2.configure(bg=\"#D4E6F1\")\n",
    "    aWindow2.geometry('800x500')\n",
    "    \n",
    "    \n",
    "    \n",
    "    def talk():\n",
    "        if my_entry.get() == \"\" : \n",
    "            messagebox.showinfo('Empty field' , 'Please Enter any text')\n",
    "        else : \n",
    "            engine= pyttsx3.init()\n",
    "            engine.say(my_entry.get())    \n",
    "            engine.setProperty('rate', 100) \n",
    "            timestr = time.strftime(\"%Y%m%d-%H%M%S\") \n",
    "            engine.save_to_file(my_entry.get(), f\"{my_entry.get()[:10]}-{timestr}.mp3\")\n",
    "            engine.runAndWait()\n",
    "            my_entry.delete(0,END)\n",
    "\n",
    "    def backFunction():\n",
    "        aWindow2.withdraw()\n",
    "        aWindow.deiconify()\n",
    "   \n",
    "   \n",
    "    image2 = ImageTk.PhotoImage(file = \"dreamstime.png\")\n",
    "    label2 = Label(aWindow2,image=image2)\n",
    "    label2.place(x=10, y=100, relwidth=1,relheight=1)\n",
    "  \n",
    "    style = Style()\n",
    "    \n",
    "    backBtn=Button(aWindow2,width=5 ,text='👈',command =backFunction)\n",
    "    backBtn.pack(pady=0,padx=0 ,side=TOP)\n",
    "        \n",
    "    my_entry=Entry(aWindow2,width=50,  font = (\"Helvetica\" , 20)) \n",
    "    my_entry.pack(pady=50)\n",
    "   \n",
    "    my_button=Button(aWindow2 , text=\"talk\" ,command=talk , style = 'TButton')\n",
    "    my_button.pack(pady=50 ,padx=100 )\n",
    "   \n",
    "    style.configure('TButton', font =('calibri', 20, 'bold'),borderwidth = '4')\n",
    "    style.map('TButton', foreground = [('active', '!disabled', 'green')],background = [('active', 'black')])\n",
    "     \n"
   ]
  },
  {
   "cell_type": "code",
   "execution_count": null,
   "metadata": {},
   "outputs": [],
   "source": [
    "# def AboutUs():\n",
    "#     aWindow.withdraw()\n",
    "#     aWindow2 = Toplevel(root)\n",
    "#     aWindow2.title(\"Deep Matrix\")\n",
    "#     aWindow2.configure(bg=\"#D4E6F1\")\n",
    "#     aWindow2.geometry('800x500')\n"
   ]
  },
  {
   "cell_type": "code",
   "execution_count": null,
   "id": "0191ce43-51b6-4a6e-b27e-a1a4eedb5264",
   "metadata": {},
   "outputs": [],
   "source": [
    "from tkinter import *\n",
    "from tkinter import messagebox\n",
    "\n",
    "import pyttsx3\n",
    "import sys\n",
    "from tkinter.ttk import *\n",
    "from PIL import ImageTk,Image\n",
    "import uuid\n",
    "import time\n"
   ]
  },
  {
   "cell_type": "code",
   "execution_count": null,
   "id": "d09b042a",
   "metadata": {},
   "outputs": [],
   "source": [
    "root=Tk()\n",
    "root.withdraw()\n",
    "\n",
    "aWindow = Toplevel(root)\n",
    "aWindow.title(\"Deep Matrix\")\n",
    "aWindow.geometry('945x700')\n"
   ]
  },
  {
   "cell_type": "code",
   "execution_count": null,
   "id": "d88784f6",
   "metadata": {
    "scrolled": true
   },
   "outputs": [],
   "source": [
    "image1 = PhotoImage(file = \"Deaf.png\")\n",
    "label1 = Label(aWindow,image=image1)\n",
    "label1.place(x=0, y=0, relwidth=1,relheight=1)"
   ]
  },
  {
   "cell_type": "code",
   "execution_count": null,
   "id": "88ca5b01",
   "metadata": {},
   "outputs": [],
   "source": [
    "style = Style()\n",
    "style.configure('TButton', font =('Britannic Bold', 20, 'bold'),borderwidth = '9',foreground='#091885')\n",
    "style.map('TButton', foreground = [('active', '!disabled', '#8311B4')],background = [('active', 'white')])"
   ]
  },
  {
   "cell_type": "code",
   "execution_count": null,
   "id": "dff38346",
   "metadata": {},
   "outputs": [],
   "source": [
    "btn=Button(aWindow, text=\"Object Detection\",width=15, command=functionBtnDetection,style = 'TButton').pack(pady=100,padx=100)\n",
    "btnSpeak=Button(aWindow,text=\"Speak\", width=15,command=speak ).pack(pady=0,padx=100)\n",
    "# btnAboutus=Button(aWindow,text=\"About Us\", width=15, command=AboutUs).pack(pady=100,padx=100)"
   ]
  },
  {
   "cell_type": "code",
   "execution_count": null,
   "id": "f9f3893a",
   "metadata": {},
   "outputs": [],
   "source": [
    "\n",
    "# !pip install pyttsx3"
   ]
  },
  {
   "cell_type": "code",
   "execution_count": null,
   "id": "48eced83",
   "metadata": {},
   "outputs": [],
   "source": [
    "root.mainloop()\n"
   ]
  },
  {
   "cell_type": "code",
   "execution_count": null,
   "metadata": {},
   "outputs": [],
   "source": []
  },
  {
   "cell_type": "code",
   "execution_count": null,
   "metadata": {},
   "outputs": [],
   "source": []
  },
  {
   "cell_type": "code",
   "execution_count": null,
   "metadata": {},
   "outputs": [],
   "source": []
  }
 ],
 "metadata": {
  "kernelspec": {
   "display_name": "deepmatrix",
   "language": "python",
   "name": "deepmatrix"
  }
 },
 "nbformat": 4,
 "nbformat_minor": 5
}